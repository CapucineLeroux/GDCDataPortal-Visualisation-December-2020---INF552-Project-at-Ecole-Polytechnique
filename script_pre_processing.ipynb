{
 "cells": [
  {
   "cell_type": "code",
   "execution_count": 2,
   "metadata": {},
   "outputs": [],
   "source": [
    "import json\n",
    "import xmltodict\n",
    "from copy import *"
   ]
  },
  {
   "cell_type": "code",
   "execution_count": 3,
   "metadata": {},
   "outputs": [],
   "source": [
    "#Recuperation du manifest\n",
    "\n",
    "manifest = (open(\"manifest.txt\")).read()\n",
    "lines = manifest.split('\\n')\n",
    "keys = lines[0].split('\\t')\n",
    "rows = []\n",
    "for i in range (1,len(lines)) :\n",
    "    row = lines[i].split('\\t')\n",
    "    rows.append(row)\n",
    "\n",
    "columns = []\n",
    "\n",
    "for j in range (len(rows[0])) : \n",
    "    column = []\n",
    "    for i in range (len(rows)) :\n",
    "        column.append(rows[i][j])\n",
    "    columns.append(column)\n",
    "    \n",
    "list_dict = []\n",
    "\n",
    "for j in range (len(keys)) :\n",
    "    list_dict.append((keys[j],columns[j]))\n",
    "    \n",
    "manifest = dict(list_dict)\n"
   ]
  },
  {
   "cell_type": "code",
   "execution_count": 7,
   "metadata": {},
   "outputs": [
    {
     "name": "stdout",
     "output_type": "stream",
     "text": [
      "dict_keys(['id', 'filename', 'md5', 'size', 'state'])\n"
     ]
    },
    {
     "data": {
      "text/plain": [
       "9611"
      ]
     },
     "execution_count": 7,
     "metadata": {},
     "output_type": "execute_result"
    }
   ],
   "source": [
    "print(manifest.keys())\n",
    "len(manifest['filename'])"
   ]
  },
  {
   "cell_type": "code",
   "execution_count": 9,
   "metadata": {},
   "outputs": [],
   "source": [
    "#Ecriture des fichiers json\n",
    "\n",
    "n = len(manifest['id']) #nombre de fichiers\n",
    "\n",
    "for i in range (n) : \n",
    "    \n",
    "    dossier = manifest['id'][i]\n",
    "    fichier = manifest['filename'][i]\n",
    "    \n",
    "    with open(\"data/\"+dossier+\"/\"+fichier) as xml_file :\n",
    "        data_dict = xmltodict.parse(xml_file.read())\n",
    "        xml_file.close()\n",
    "        json_data = json.dumps(data_dict)\n",
    "\n",
    "        with open(\"data/\"+dossier+\"/\"+fichier[:-3]+\"json\",\"w\") as json_file :\n",
    "            json_file.write(json_data)\n",
    "            json_file.close()\n",
    "    "
   ]
  },
  {
   "cell_type": "code",
   "execution_count": 11,
   "metadata": {},
   "outputs": [],
   "source": [
    "#Transformation des fichiers\n",
    "\n",
    "for i in range (n) : \n",
    "    \n",
    "    dossier = manifest['id'][i]\n",
    "    fichier = manifest['filename'][i][:-3]+\"json\"\n",
    "\n",
    "    #charge le fichier json\n",
    "    file = json.load(open(\"data/\"+dossier+\"/\"+fichier))\n",
    "\n",
    "    #recupere uniquement la cle 'tcga_bcr'\n",
    "    keys = file.keys()\n",
    "    for key in keys : \n",
    "        if 'tcga_bcr' in key :\n",
    "            old_key = key\n",
    "    file=file[old_key]\n",
    "\n",
    "    #recupere uniquement la cle 'patient'\n",
    "    keys = file.keys()\n",
    "    for key in keys : \n",
    "        if 'patient' in key :\n",
    "            old_key = key\n",
    "    file=file[old_key]\n",
    "\n",
    "    #simplifie les cles\n",
    "    keys = file.keys()\n",
    "    filebis = {}\n",
    "\n",
    "    for key in keys :\n",
    "        key_decomposition = key.split(':')\n",
    "\n",
    "        if (len(key_decomposition) == 2) :\n",
    "            new_key = key_decomposition[1]\n",
    "            filebis[new_key] = file[key]\n",
    "            if type(filebis[new_key]) == dict :\n",
    "                if '@procurement_status' in filebis[new_key].keys() :\n",
    "                    if filebis[new_key]['@procurement_status'] != 'Completed' :\n",
    "                        filebis[new_key] = None\n",
    "                    elif '#text' in filebis[new_key].keys() : \n",
    "                        filebis[new_key] = filebis[new_key]['#text']\n",
    "\n",
    "    #ecrit le nouveau fichier simplifié\n",
    "    with open(\"data/\"+dossier+\"/new_\"+fichier,\"w\") as json_file :\n",
    "        new = json.dumps(filebis)\n",
    "        json_file.write(new)\n",
    "        json_file.close()\n"
   ]
  },
  {
   "cell_type": "code",
   "execution_count": 12,
   "metadata": {},
   "outputs": [],
   "source": [
    "#Construction d'un unique fichier avec tous les patients\n",
    "\n",
    "final_file = []\n",
    "\n",
    "for i in range (n) : \n",
    "    \n",
    "    dossier = manifest['id'][i]\n",
    "    fichier = \"new_\"+manifest['filename'][i][:-3]+\"json\"\n",
    "    \n",
    "    file = json.load(open(\"data/\"+dossier+\"/\"+fichier))\n",
    "    final_file.append(file)\n",
    "    \n",
    "with open(\"data.json\",\"w\") as json_file :\n",
    "    data = json.dumps(final_file)\n",
    "    json_file.write(data)\n",
    "    json_file.close()\n",
    "    "
   ]
  },
  {
   "cell_type": "markdown",
   "metadata": {},
   "source": [
    "Steps facultatifs pour consulter le fichier final"
   ]
  },
  {
   "cell_type": "code",
   "execution_count": 13,
   "metadata": {},
   "outputs": [],
   "source": [
    "#Tests sur les infos du fichier final\n",
    "\n",
    "data = json.load(open('data.json'))\n"
   ]
  },
  {
   "cell_type": "code",
   "execution_count": 18,
   "metadata": {},
   "outputs": [
    {
     "data": {
      "text/plain": [
       "['additional_studies',\n",
       " 'other_dx',\n",
       " 'gender',\n",
       " 'vital_status',\n",
       " 'days_to_birth',\n",
       " 'days_to_death',\n",
       " 'days_to_last_followup',\n",
       " 'race_list',\n",
       " 'bcr_patient_barcode',\n",
       " 'tissue_source_site',\n",
       " 'patient_id',\n",
       " 'bcr_patient_uuid',\n",
       " 'history_of_neoadjuvant_treatment',\n",
       " 'informed_consent_verified',\n",
       " 'icd_o_3_site',\n",
       " 'icd_o_3_histology',\n",
       " 'icd_10',\n",
       " 'tissue_prospective_collection_indicator',\n",
       " 'tissue_retrospective_collection_indicator',\n",
       " 'ethnicity',\n",
       " 'person_neoplasm_cancer_status',\n",
       " 'day_of_form_completion',\n",
       " 'month_of_form_completion',\n",
       " 'year_of_form_completion',\n",
       " 'new_tumor_events',\n",
       " 'drugs',\n",
       " 'radiations',\n",
       " 'follow_ups']"
      ]
     },
     "execution_count": 18,
     "metadata": {},
     "output_type": "execute_result"
    }
   ],
   "source": [
    "#Cherche les clés communes à tous les fichiers\n",
    "\n",
    "common_keys_i = data[0].keys()\n",
    "for i in range (1,n):\n",
    "    keys_i = data[i].keys()\n",
    "    common_keys_ip1 = []\n",
    "    for key in common_keys_i :\n",
    "        if key in keys_i :\n",
    "            common_keys_ip1.append(key)\n",
    "    common_keys_i = common_keys_ip1\n",
    "    \n",
    "common_keys_i\n",
    "    "
   ]
  },
  {
   "cell_type": "code",
   "execution_count": null,
   "metadata": {},
   "outputs": [],
   "source": []
  }
 ],
 "metadata": {
  "kernelspec": {
   "display_name": "Python 3",
   "language": "python",
   "name": "python3"
  },
  "language_info": {
   "codemirror_mode": {
    "name": "ipython",
    "version": 3
   },
   "file_extension": ".py",
   "mimetype": "text/x-python",
   "name": "python",
   "nbconvert_exporter": "python",
   "pygments_lexer": "ipython3",
   "version": "3.7.4"
  }
 },
 "nbformat": 4,
 "nbformat_minor": 2
}
